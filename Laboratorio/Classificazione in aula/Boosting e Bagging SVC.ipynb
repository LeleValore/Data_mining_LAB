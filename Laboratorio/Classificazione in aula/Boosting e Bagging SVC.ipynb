{
 "cells": [
  {
   "cell_type": "code",
   "execution_count": 19,
   "id": "c31aad64",
   "metadata": {},
   "outputs": [],
   "source": [
    "from sklearn.datasets import load_iris\n",
    "from sklearn.ensemble import AdaBoostClassifier, BaggingClassifier\n",
    "from sklearn.svm      import SVC\n",
    "from sklearn.model_selection import train_test_split\n",
    "from sklearn.metrics import accuracy_score"
   ]
  },
  {
   "cell_type": "markdown",
   "id": "34877a26",
   "metadata": {},
   "source": [
    "# BOOSTING"
   ]
  },
  {
   "cell_type": "code",
   "execution_count": 3,
   "id": "13b1c08a",
   "metadata": {},
   "outputs": [],
   "source": [
    "iris = load_iris()\n",
    "feat_mtx = iris.data\n",
    "class_vt = iris.target\n",
    "\n",
    "feat_mtx_tr, feat_mtx_ts, class_vt_tr, class_vt_ts = train_test_split(\n",
    "    feat_mtx, class_vt, test_size=0.3, random_state=72\n",
    ")"
   ]
  },
  {
   "cell_type": "code",
   "execution_count": 6,
   "id": "67e114c5",
   "metadata": {},
   "outputs": [],
   "source": [
    "clf = AdaBoostClassifier(\n",
    "    estimator= SVC(probability=True, kernel=\"linear\"),\n",
    "    n_estimators=10, \n",
    "    random_state=0,\n",
    "    algorithm=\"SAMME\"\n",
    ").fit(feat_mtx_tr, class_vt_tr)"
   ]
  },
  {
   "cell_type": "code",
   "execution_count": 8,
   "id": "570890c6",
   "metadata": {},
   "outputs": [],
   "source": [
    "class_vt_tr_pred = clf.predict(feat_mtx_tr)\n",
    "class_vt_ts_pred = clf.predict(feat_mtx_ts)"
   ]
  },
  {
   "cell_type": "code",
   "execution_count": 11,
   "id": "4cc83521",
   "metadata": {},
   "outputs": [],
   "source": [
    "accuracy_train = accuracy_score(class_vt_tr_pred, class_vt_tr)\n",
    "accuracy_test  = accuracy_score(class_vt_ts_pred, class_vt_ts)"
   ]
  },
  {
   "cell_type": "code",
   "execution_count": 12,
   "id": "3ac73324",
   "metadata": {},
   "outputs": [
    {
     "name": "stdout",
     "output_type": "stream",
     "text": [
      "Accuracy Test:  0.9111111111111111\n",
      "Accuracy Train:  0.9047619047619048\n"
     ]
    }
   ],
   "source": [
    "print(\"Accuracy Test: \", accuracy_test)\n",
    "print(\"Accuracy Train: \", accuracy_train)"
   ]
  },
  {
   "cell_type": "code",
   "execution_count": 18,
   "id": "834392d1",
   "metadata": {},
   "outputs": [
    {
     "name": "stdout",
     "output_type": "stream",
     "text": [
      "0.9047619047619048\n",
      "0.6476190476190476\n",
      "0.3523809523809524\n",
      "0.6476190476190476\n",
      "0.3523809523809524\n",
      "0.6476190476190476\n",
      "0.3523809523809524\n",
      "0.6476190476190476\n",
      "0.3523809523809524\n",
      "0.6476190476190476\n"
     ]
    }
   ],
   "source": [
    "for model in clf.estimators_:\n",
    "    pred_tr = model.predict(feat_mtx_tr)\n",
    "    accur_tr = accuracy_score(pred_tr, class_vt_tr)\n",
    "    print(accur_tr)"
   ]
  },
  {
   "cell_type": "markdown",
   "id": "6cb75b1d",
   "metadata": {},
   "source": [
    "# "
   ]
  },
  {
   "cell_type": "markdown",
   "id": "eceaaba2",
   "metadata": {},
   "source": [
    "# BAGGING"
   ]
  },
  {
   "cell_type": "code",
   "execution_count": 21,
   "id": "94efebc7",
   "metadata": {},
   "outputs": [],
   "source": [
    "clf = BaggingClassifier(estimator=SVC(), n_estimators=10, random_state=0).fit(\n",
    "    feat_mtx_tr, class_vt_tr\n",
    ")"
   ]
  },
  {
   "cell_type": "code",
   "execution_count": 22,
   "id": "4d994160",
   "metadata": {},
   "outputs": [],
   "source": [
    "class_vt_tr_pred = clf.predict(feat_mtx_tr)\n",
    "class_vt_ts_pred = clf.predict(feat_mtx_ts)"
   ]
  },
  {
   "cell_type": "code",
   "execution_count": 23,
   "id": "b9a63ac8",
   "metadata": {},
   "outputs": [],
   "source": [
    "accuracy_train = accuracy_score(class_vt_tr_pred, class_vt_tr)\n",
    "accuracy_test = accuracy_score(class_vt_ts_pred, class_vt_ts)"
   ]
  },
  {
   "cell_type": "code",
   "execution_count": 24,
   "id": "70076eb6",
   "metadata": {},
   "outputs": [
    {
     "name": "stdout",
     "output_type": "stream",
     "text": [
      "Accuracy Train:  0.9428571428571428\n",
      "Accuracy Test:  0.9555555555555556\n"
     ]
    }
   ],
   "source": [
    "print(\"Accuracy Train: \", accuracy_train)\n",
    "print(\"Accuracy Test: \", accuracy_test)"
   ]
  }
 ],
 "metadata": {
  "kernelspec": {
   "display_name": "Python 3 (ipykernel)",
   "language": "python",
   "name": "python3"
  },
  "language_info": {
   "codemirror_mode": {
    "name": "ipython",
    "version": 3
   },
   "file_extension": ".py",
   "mimetype": "text/x-python",
   "name": "python",
   "nbconvert_exporter": "python",
   "pygments_lexer": "ipython3",
   "version": "3.11.4"
  }
 },
 "nbformat": 4,
 "nbformat_minor": 5
}

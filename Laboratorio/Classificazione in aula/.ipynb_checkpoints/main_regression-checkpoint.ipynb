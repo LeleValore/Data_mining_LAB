{
 "cells": [
  {
   "cell_type": "code",
   "execution_count": 54,
   "id": "014b540b",
   "metadata": {},
   "outputs": [],
   "source": [
    "import matplotlib.pyplot   as plt\n",
    "from sklearn.datasets      import load_diabetes\n",
    "from DataManagment         import DataManagment\n",
    "from Regressor             import Regressor\n",
    "from sklearn.metrics       import r2_score, mean_squared_error\n",
    "from sklearn.preprocessing import RobustScaler, MinMaxScaler, StandardScaler\n",
    "from sklearn.decomposition import PCA\n",
    "import graphviz\n",
    "from sklearn               import tree"
   ]
  },
  {
   "cell_type": "code",
   "execution_count": 3,
   "id": "197db5cc",
   "metadata": {},
   "outputs": [],
   "source": [
    "diabetes_obj = DataManagment(load_diabetes, tname=\"Diabete\")"
   ]
  },
  {
   "cell_type": "markdown",
   "id": "75a44b3b",
   "metadata": {},
   "source": [
    "# "
   ]
  },
  {
   "cell_type": "markdown",
   "id": "4b498ae0",
   "metadata": {},
   "source": [
    "# MODELLO LINEARE"
   ]
  },
  {
   "cell_type": "code",
   "execution_count": 8,
   "id": "9354e2a9",
   "metadata": {},
   "outputs": [],
   "source": [
    "lin_reg = Regressor(\"lr\")"
   ]
  },
  {
   "cell_type": "code",
   "execution_count": 9,
   "id": "7685224d",
   "metadata": {},
   "outputs": [],
   "source": [
    "params  = {\n",
    "    \"fit_intercept\": [True, False],\n",
    "    \"positive\"     : [True, False]\n",
    "}"
   ]
  },
  {
   "cell_type": "code",
   "execution_count": 10,
   "id": "fcb76246",
   "metadata": {},
   "outputs": [],
   "source": [
    "lin_reg.best_parameters_computing(params, 'r2', diabetes_obj, cv=10)"
   ]
  },
  {
   "cell_type": "code",
   "execution_count": 13,
   "id": "5421af5d",
   "metadata": {},
   "outputs": [],
   "source": [
    "tr_pred = lin_reg.final_model.predict(diabetes_obj.ftx_mtx_tr)\n",
    "ts_pred = lin_reg.final_model.predict(diabetes_obj.ftx_mtx_ts)"
   ]
  },
  {
   "cell_type": "code",
   "execution_count": 18,
   "id": "3f265cf0",
   "metadata": {},
   "outputs": [],
   "source": [
    "tr_r2_score = r2_score(tr_pred, diabetes_obj.targ_vt_tr)\n",
    "ts_r2_score = r2_score(ts_pred, diabetes_obj.targ_vt_ts)"
   ]
  },
  {
   "cell_type": "code",
   "execution_count": 19,
   "id": "b23e51d8",
   "metadata": {},
   "outputs": [
    {
     "name": "stdout",
     "output_type": "stream",
     "text": [
      "r2_score_train:  0.0733446449777041\n",
      "r2_score_test:  0.0962160230504765\n"
     ]
    }
   ],
   "source": [
    "print(\"r2_score_train: \", tr_r2_score)\n",
    "print(\"r2_score_test: \", ts_r2_score)"
   ]
  },
  {
   "cell_type": "code",
   "execution_count": null,
   "id": "486da954",
   "metadata": {},
   "outputs": [],
   "source": []
  },
  {
   "cell_type": "markdown",
   "id": "f837a1e3",
   "metadata": {},
   "source": [
    "# SVR"
   ]
  },
  {
   "cell_type": "code",
   "execution_count": 4,
   "id": "3716f81b",
   "metadata": {},
   "outputs": [],
   "source": [
    "svr_reg = Regressor(\"svr\")"
   ]
  },
  {
   "cell_type": "code",
   "execution_count": 5,
   "id": "e29d2e2c",
   "metadata": {},
   "outputs": [],
   "source": [
    "params  = {\n",
    "    \"kernel\": [\"linear\", \"poly\", \"rbf\", \"sigmoid\"],\n",
    "    \"degree\": list(range(2,7)),\n",
    "    \"gamma\": [\"auto\"],\n",
    "    \"C\" : [0.1, 0.5, 1, 10, 100, 1000]\n",
    "}"
   ]
  },
  {
   "cell_type": "code",
   "execution_count": 6,
   "id": "c9511cfe",
   "metadata": {},
   "outputs": [],
   "source": [
    "svr_reg.best_parameters_computing(params, 'r2', diabetes_obj, cv=10)"
   ]
  },
  {
   "cell_type": "markdown",
   "id": "debd182a",
   "metadata": {},
   "source": [
    "### HOMEWORK: \n",
    "creare funzione dentro Regressor che contenga il codice fino al grafico"
   ]
  },
  {
   "cell_type": "code",
   "execution_count": 7,
   "id": "553eeec2",
   "metadata": {},
   "outputs": [],
   "source": [
    "tr_pred = svr_reg.final_model.predict(diabetes_obj.ftx_mtx_tr)\n",
    "ts_pred = svr_reg.final_model.predict(diabetes_obj.ftx_mtx_ts)"
   ]
  },
  {
   "cell_type": "code",
   "execution_count": 8,
   "id": "966561d8",
   "metadata": {},
   "outputs": [],
   "source": [
    "tr_r2_score = r2_score(tr_pred, diabetes_obj.targ_vt_tr)\n",
    "ts_r2_score = r2_score(ts_pred, diabetes_obj.targ_vt_ts)"
   ]
  },
  {
   "cell_type": "code",
   "execution_count": 9,
   "id": "daba2fb4",
   "metadata": {},
   "outputs": [
    {
     "name": "stdout",
     "output_type": "stream",
     "text": [
      "r2_score_train:  -0.010664843074928987\n",
      "r2_score_test:  -0.02716759095179233\n"
     ]
    }
   ],
   "source": [
    "print(\"r2_score_train: \", tr_r2_score)\n",
    "print(\"r2_score_test: \", ts_r2_score)"
   ]
  },
  {
   "cell_type": "code",
   "execution_count": 10,
   "id": "e81096f2",
   "metadata": {},
   "outputs": [],
   "source": [
    "diff = ts_pred - diabetes_obj.targ_vt_ts\n",
    "x    = range(0, len(diff))"
   ]
  },
  {
   "cell_type": "code",
   "execution_count": 11,
   "id": "575dfaa8",
   "metadata": {},
   "outputs": [
    {
     "data": {
      "image/png": "[encoded data removed]",
      "text/plain": [
       "<Figure size 1000x500 with 1 Axes>"
      ]
     },
     "metadata": {},
     "output_type": "display_data"
    }
   ],
   "source": [
    "fig = plt.figure(figsize=(10,5))\n",
    "plt.scatter(x=x, y=diff)\n",
    "plt.show()"
   ]
  },
  {
   "cell_type": "markdown",
   "id": "62e5c1a5",
   "metadata": {},
   "source": [
    "### Fine HOMEWORK"
   ]
  },
  {
   "cell_type": "markdown",
   "id": "9e354095",
   "metadata": {},
   "source": [
    "### PROVA NORMALIZZAZIONE"
   ]
  },
  {
   "cell_type": "code",
   "execution_count": 12,
   "id": "3fa57c96",
   "metadata": {},
   "outputs": [],
   "source": [
    "scaler = StandardScaler()\n",
    "mtx_tr_norm = scaler.fit_transform(diabetes_obj.ftx_mtx_tr)\n",
    "mtx_ts_norm = scaler.fit_transform(diabetes_obj.ftx_mtx_ts)"
   ]
  },
  {
   "cell_type": "code",
   "execution_count": 13,
   "id": "b6383641",
   "metadata": {},
   "outputs": [],
   "source": [
    "svr_reg.best_parameters_computing(params, 'r2', diabetes_obj, cv=10, feat_mtx=mtx_tr_norm)"
   ]
  },
  {
   "cell_type": "code",
   "execution_count": 15,
   "id": "81b24c2a",
   "metadata": {},
   "outputs": [],
   "source": [
    "tr_pred = svr_reg.final_model.predict(mtx_tr_norm)\n",
    "ts_pred = svr_reg.final_model.predict(mtx_ts_norm)"
   ]
  },
  {
   "cell_type": "code",
   "execution_count": 16,
   "id": "239adda2",
   "metadata": {},
   "outputs": [],
   "source": [
    "tr_r2_score = r2_score(tr_pred, diabetes_obj.targ_vt_tr)\n",
    "ts_r2_score = r2_score(ts_pred, diabetes_obj.targ_vt_ts)"
   ]
  },
  {
   "cell_type": "code",
   "execution_count": 17,
   "id": "e1b0d22a",
   "metadata": {},
   "outputs": [
    {
     "name": "stdout",
     "output_type": "stream",
     "text": [
      "r2_score_train:  -0.1379465426438331\n",
      "r2_score_test:  -0.06668890077314193\n"
     ]
    }
   ],
   "source": [
    "print(\"r2_score_train: \", tr_r2_score)\n",
    "print(\"r2_score_test: \", ts_r2_score)"
   ]
  },
  {
   "cell_type": "code",
   "execution_count": 18,
   "id": "1c2c23ec",
   "metadata": {},
   "outputs": [],
   "source": [
    "diff = ts_pred - diabetes_obj.targ_vt_ts"
   ]
  },
  {
   "cell_type": "code",
   "execution_count": 19,
   "id": "111e207f",
   "metadata": {},
   "outputs": [
    {
     "data": {
      "image/png": "[encoded data removed]",
      "text/plain": [
       "<Figure size 1000x500 with 1 Axes>"
      ]
     },
     "metadata": {},
     "output_type": "display_data"
    }
   ],
   "source": [
    "fig  = plt.figure(figsize=(10,5))\n",
    "plt.scatter(x=x, y=diff)\n",
    "plt.show()"
   ]
  },
  {
   "cell_type": "markdown",
   "id": "da5aaf17",
   "metadata": {},
   "source": [
    "### PROVIAMO CON PCA"
   ]
  },
  {
   "cell_type": "code",
   "execution_count": 20,
   "id": "3ed1edf2",
   "metadata": {},
   "outputs": [],
   "source": [
    "num_feat = diabetes_obj.ftx_mtx_tr.shape[1]\n",
    "pca = PCA(n_components=4)\n",
    "mtx_tr_rid = pca.fit_transform(diabetes_obj.ftx_mtx_tr)\n",
    "mtx_ts_rid = pca.fit_transform(diabetes_obj.ftx_mtx_ts)"
   ]
  },
  {
   "cell_type": "code",
   "execution_count": 21,
   "id": "9adb7496",
   "metadata": {},
   "outputs": [],
   "source": [
    "svr_reg.best_parameters_computing(params, 'r2', diabetes_obj, cv=10, feat_mtx=mtx_tr_rid)"
   ]
  },
  {
   "cell_type": "code",
   "execution_count": 23,
   "id": "7e035826",
   "metadata": {},
   "outputs": [],
   "source": [
    "tr_pred = svr_reg.final_model.predict(mtx_tr_rid)\n",
    "ts_pred = svr_reg.final_model.predict(mtx_ts_rid)"
   ]
  },
  {
   "cell_type": "code",
   "execution_count": 24,
   "id": "470c6ede",
   "metadata": {},
   "outputs": [],
   "source": [
    "tr_r2_score = r2_score(tr_pred, diabetes_obj.targ_vt_tr)\n",
    "ts_r2_score = r2_score(ts_pred, diabetes_obj.targ_vt_ts)"
   ]
  },
  {
   "cell_type": "code",
   "execution_count": 25,
   "id": "5a281fd2",
   "metadata": {},
   "outputs": [
    {
     "name": "stdout",
     "output_type": "stream",
     "text": [
      "r2_score_train:  -0.35693462184695757\n",
      "r2_score_test:  -0.5703262670545506\n"
     ]
    }
   ],
   "source": [
    "print(\"r2_score_train: \", tr_r2_score)\n",
    "print(\"r2_score_test: \", ts_r2_score)"
   ]
  },
  {
   "cell_type": "code",
   "execution_count": 26,
   "id": "22e0c515",
   "metadata": {},
   "outputs": [],
   "source": [
    "diff = ts_pred - diabetes_obj.targ_vt_ts"
   ]
  },
  {
   "cell_type": "code",
   "execution_count": 27,
   "id": "65740295",
   "metadata": {},
   "outputs": [
    {
     "data": {
      "image/png": "[encoded data removed]",
      "text/plain": [
       "<Figure size 1000x500 with 1 Axes>"
      ]
     },
     "metadata": {},
     "output_type": "display_data"
    }
   ],
   "source": [
    "fig = plt.figure(figsize=(10,5))\n",
    "plt.scatter(x=x, y=diff)\n",
    "plt.show()"
   ]
  },
  {
   "cell_type": "markdown",
   "id": "6173f277",
   "metadata": {},
   "source": [
    "### HOMEWORK: PCA(4,5) + NORM (MIM_MAX)"
   ]
  },
  {
   "cell_type": "markdown",
   "id": "d819a9c5",
   "metadata": {},
   "source": [
    "# "
   ]
  },
  {
   "cell_type": "markdown",
   "id": "363f3f06",
   "metadata": {},
   "source": [
    "# KNR"
   ]
  },
  {
   "cell_type": "code",
   "execution_count": 32,
   "id": "7e0b947d",
   "metadata": {},
   "outputs": [],
   "source": [
    "knr_reg = Regressor(\"knr\")"
   ]
  },
  {
   "cell_type": "code",
   "execution_count": 33,
   "id": "20ac4482",
   "metadata": {},
   "outputs": [],
   "source": [
    "params = {\n",
    "    \"n_neighbors\": list(range(5, 21))\n",
    "}"
   ]
  },
  {
   "cell_type": "code",
   "execution_count": 35,
   "id": "12dd34f4",
   "metadata": {},
   "outputs": [],
   "source": [
    "knr_reg.best_parameters_computing(params, 'r2', diabetes_obj, cv=10)"
   ]
  },
  {
   "cell_type": "code",
   "execution_count": 36,
   "id": "35465090",
   "metadata": {},
   "outputs": [],
   "source": [
    "tr_pred = knr_reg.final_model.predict(diabetes_obj.ftx_mtx_tr)\n",
    "ts_pred = knr_reg.final_model.predict(diabetes_obj.ftx_mtx_ts)"
   ]
  },
  {
   "cell_type": "code",
   "execution_count": 37,
   "id": "385dd479",
   "metadata": {},
   "outputs": [],
   "source": [
    "tr_r2_score = r2_score(tr_pred, diabetes_obj.targ_vt_tr)\n",
    "ts_r2_score = r2_score(ts_pred, diabetes_obj.targ_vt_ts)"
   ]
  },
  {
   "cell_type": "code",
   "execution_count": 38,
   "id": "928cda03",
   "metadata": {},
   "outputs": [
    {
     "name": "stdout",
     "output_type": "stream",
     "text": [
      "r2_score_train:  -0.4717124165770945\n",
      "r2_score_test:  -0.7174605235552165\n"
     ]
    }
   ],
   "source": [
    "print(\"r2_score_train: \", tr_r2_score)\n",
    "print(\"r2_score_test: \", ts_r2_score)"
   ]
  },
  {
   "cell_type": "code",
   "execution_count": 39,
   "id": "ceca88fc",
   "metadata": {},
   "outputs": [
    {
     "data": {
      "image/png": "[encoded data removed]",
      "text/plain": [
       "<Figure size 1000x500 with 1 Axes>"
      ]
     },
     "metadata": {},
     "output_type": "display_data"
    }
   ],
   "source": [
    "diff = ts_pred - diabetes_obj.targ_vt_ts\n",
    "fig = plt.figure(figsize=(10,5))\n",
    "plt.scatter(x=x, y=diff)\n",
    "plt.show()"
   ]
  },
  {
   "cell_type": "markdown",
   "id": "ed30c667",
   "metadata": {},
   "source": [
    "### HOMEWORK: PROVARE CON NORM E RID."
   ]
  },
  {
   "cell_type": "markdown",
   "id": "73ecd292",
   "metadata": {},
   "source": [
    "#"
   ]
  },
  {
   "cell_type": "markdown",
   "id": "1ce199d9",
   "metadata": {},
   "source": [
    "# DECISION TREE"
   ]
  },
  {
   "cell_type": "code",
   "execution_count": 40,
   "id": "2b54604f",
   "metadata": {},
   "outputs": [],
   "source": [
    "dtr_reg = Regressor(\"dtr\")"
   ]
  },
  {
   "cell_type": "code",
   "execution_count": 43,
   "id": "61f18cdd",
   "metadata": {},
   "outputs": [],
   "source": [
    "params = {\n",
    "    \"max_depth\": list(range(2, 50)),\n",
    "    \"max_features\": [None, \"sqrt\", \"log2\"]\n",
    "}"
   ]
  },
  {
   "cell_type": "code",
   "execution_count": 44,
   "id": "5df87bc7",
   "metadata": {},
   "outputs": [],
   "source": [
    "dtr_reg.best_parameters_computing(params, 'r2', diabetes_obj, cv=10)"
   ]
  },
  {
   "cell_type": "code",
   "execution_count": 45,
   "id": "9e0ad924",
   "metadata": {},
   "outputs": [
    {
     "data": {
      "text/plain": [
       "{'max_depth': 2, 'max_features': None}"
      ]
     },
     "execution_count": 45,
     "metadata": {},
     "output_type": "execute_result"
    }
   ],
   "source": [
    "dtr_reg.best_params"
   ]
  },
  {
   "cell_type": "code",
   "execution_count": 46,
   "id": "98dd16b5",
   "metadata": {},
   "outputs": [],
   "source": [
    "tr_pred = dtr_reg.final_model.predict(diabetes_obj.ftx_mtx_tr)\n",
    "ts_pred = dtr_reg.final_model.predict(diabetes_obj.ftx_mtx_ts)"
   ]
  },
  {
   "cell_type": "code",
   "execution_count": 47,
   "id": "ccd10da5",
   "metadata": {},
   "outputs": [],
   "source": [
    "# calcolo r2\n",
    "tr_r2_score = r2_score(tr_pred, diabetes_obj.targ_vt_tr)\n",
    "ts_r2_score = r2_score(ts_pred, diabetes_obj.targ_vt_ts)"
   ]
  },
  {
   "cell_type": "code",
   "execution_count": 50,
   "id": "4d236a3c",
   "metadata": {},
   "outputs": [],
   "source": [
    "# calcolo mse\n",
    "tr_mse_score = mean_squared_error(tr_pred, diabetes_obj.targ_vt_tr)\n",
    "ts_mse_score = mean_squared_error(ts_pred, diabetes_obj.targ_vt_ts)"
   ]
  },
  {
   "cell_type": "code",
   "execution_count": 52,
   "id": "6d69758a",
   "metadata": {},
   "outputs": [
    {
     "name": "stdout",
     "output_type": "stream",
     "text": [
      "r2_score_train:  -0.2828213094974079\n",
      "r2_score_test:  -0.552716360803321\n",
      "mse_score_train:  10.262084513631589\n",
      "mse_score_test:  3545.7589270492126\n"
     ]
    }
   ],
   "source": [
    "print(\"r2_score_train: \", tr_r2_score)\n",
    "print(\"r2_score_test: \", ts_r2_score)\n",
    "print(\"mse_score_train: \", tr_mse_score/diabetes_obj.ftx_mtx_tr.shape[0])\n",
    "print(\"mse_score_test: \", ts_mse_score)"
   ]
  },
  {
   "cell_type": "code",
   "execution_count": 49,
   "id": "a9c50d2c",
   "metadata": {},
   "outputs": [
    {
     "data": {
      "image/png": "[encoded data removed]",
      "text/plain": [
       "<Figure size 1000x500 with 1 Axes>"
      ]
     },
     "metadata": {},
     "output_type": "display_data"
    }
   ],
   "source": [
    "diff = ts_pred - diabetes_obj.targ_vt_ts\n",
    "fig = plt.figure(figsize=(10,5))\n",
    "plt.scatter(x=x, y=diff)\n",
    "plt.show()"
   ]
  },
  {
   "cell_type": "code",
   "execution_count": 56,
   "id": "bc5b4ded",
   "metadata": {},
   "outputs": [
    {
     "data": {
      "image/svg+xml": [
       "<?xml version=\"1.0\" encoding=\"UTF-8\" standalone=\"no\"?>\n",
       "<!DOCTYPE svg PUBLIC \"-//W3C//DTD SVG 1.1//EN\"\n",
       " \"http://www.w3.org/Graphics/SVG/1.1/DTD/svg11.dtd\">\n",
       "<!-- Generated by graphviz version 2.43.0 (0)\n",
       " -->\n",
       "<!-- Title: Tree Pages: 1 -->\n",
       "<svg width=\"860pt\" height=\"269pt\"\n",
       " viewBox=\"0.00 0.00 860.00 269.00\" xmlns=\"http://www.w3.org/2000/svg\" xmlns:xlink=\"http://www.w3.org/1999/xlink\">\n",
       "<g id=\"graph0\" class=\"graph\" transform=\"scale(1 1) rotate(0) translate(4 265)\">\n",
       "<title>Tree</title>\n",
       "<polygon fill=\"white\" stroke=\"transparent\" points=\"-4,4 -4,-265 856,-265 856,4 -4,4\"/>\n",
       "<!-- 0 -->\n",
       "<g id=\"node1\" class=\"node\">\n",
       "<title>0</title>\n",
       "<polygon fill=\"none\" stroke=\"black\" points=\"524,-261 323,-261 323,-193 524,-193 524,-261\"/>\n",
       "<text text-anchor=\"middle\" x=\"423.5\" y=\"-245.8\" font-family=\"Helvetica,sans-Serif\" font-size=\"14.00\">x[2] &lt;= 0.005</text>\n",
       "<text text-anchor=\"middle\" x=\"423.5\" y=\"-230.8\" font-family=\"Helvetica,sans-Serif\" font-size=\"14.00\">squared_error = 6044.625</text>\n",
       "<text text-anchor=\"middle\" x=\"423.5\" y=\"-215.8\" font-family=\"Helvetica,sans-Serif\" font-size=\"14.00\">samples = 331</text>\n",
       "<text text-anchor=\"middle\" x=\"423.5\" y=\"-200.8\" font-family=\"Helvetica,sans-Serif\" font-size=\"14.00\">value = 154.344</text>\n",
       "</g>\n",
       "<!-- 1 -->\n",
       "<g id=\"node2\" class=\"node\">\n",
       "<title>1</title>\n",
       "<polygon fill=\"none\" stroke=\"black\" points=\"415,-157 214,-157 214,-89 415,-89 415,-157\"/>\n",
       "<text text-anchor=\"middle\" x=\"314.5\" y=\"-141.8\" font-family=\"Helvetica,sans-Serif\" font-size=\"14.00\">x[8] &lt;= 0.006</text>\n",
       "<text text-anchor=\"middle\" x=\"314.5\" y=\"-126.8\" font-family=\"Helvetica,sans-Serif\" font-size=\"14.00\">squared_error = 3735.274</text>\n",
       "<text text-anchor=\"middle\" x=\"314.5\" y=\"-111.8\" font-family=\"Helvetica,sans-Serif\" font-size=\"14.00\">samples = 197</text>\n",
       "<text text-anchor=\"middle\" x=\"314.5\" y=\"-96.8\" font-family=\"Helvetica,sans-Serif\" font-size=\"14.00\">value = 119.787</text>\n",
       "</g>\n",
       "<!-- 0&#45;&gt;1 -->\n",
       "<g id=\"edge1\" class=\"edge\">\n",
       "<title>0&#45;&gt;1</title>\n",
       "<path fill=\"none\" stroke=\"black\" d=\"M388.11,-192.88C378.4,-183.8 367.77,-173.85 357.67,-164.4\"/>\n",
       "<polygon fill=\"black\" stroke=\"black\" points=\"359.78,-161.58 350.08,-157.3 354.99,-166.69 359.78,-161.58\"/>\n",
       "<text text-anchor=\"middle\" x=\"350.91\" y=\"-178.59\" font-family=\"Helvetica,sans-Serif\" font-size=\"14.00\">True</text>\n",
       "</g>\n",
       "<!-- 4 -->\n",
       "<g id=\"node5\" class=\"node\">\n",
       "<title>4</title>\n",
       "<polygon fill=\"none\" stroke=\"black\" points=\"634,-157 433,-157 433,-89 634,-89 634,-157\"/>\n",
       "<text text-anchor=\"middle\" x=\"533.5\" y=\"-141.8\" font-family=\"Helvetica,sans-Serif\" font-size=\"14.00\">x[2] &lt;= 0.073</text>\n",
       "<text text-anchor=\"middle\" x=\"533.5\" y=\"-126.8\" font-family=\"Helvetica,sans-Serif\" font-size=\"14.00\">squared_error = 5102.888</text>\n",
       "<text text-anchor=\"middle\" x=\"533.5\" y=\"-111.8\" font-family=\"Helvetica,sans-Serif\" font-size=\"14.00\">samples = 134</text>\n",
       "<text text-anchor=\"middle\" x=\"533.5\" y=\"-96.8\" font-family=\"Helvetica,sans-Serif\" font-size=\"14.00\">value = 205.149</text>\n",
       "</g>\n",
       "<!-- 0&#45;&gt;4 -->\n",
       "<g id=\"edge4\" class=\"edge\">\n",
       "<title>0&#45;&gt;4</title>\n",
       "<path fill=\"none\" stroke=\"black\" d=\"M459.21,-192.88C469.11,-183.71 479.96,-173.65 490.23,-164.12\"/>\n",
       "<polygon fill=\"black\" stroke=\"black\" points=\"492.64,-166.67 497.59,-157.3 487.88,-161.53 492.64,-166.67\"/>\n",
       "<text text-anchor=\"middle\" x=\"496.65\" y=\"-178.58\" font-family=\"Helvetica,sans-Serif\" font-size=\"14.00\">False</text>\n",
       "</g>\n",
       "<!-- 2 -->\n",
       "<g id=\"node3\" class=\"node\">\n",
       "<title>2</title>\n",
       "<polygon fill=\"none\" stroke=\"black\" points=\"201,-53 0,-53 0,0 201,0 201,-53\"/>\n",
       "<text text-anchor=\"middle\" x=\"100.5\" y=\"-37.8\" font-family=\"Helvetica,sans-Serif\" font-size=\"14.00\">squared_error = 2507.936</text>\n",
       "<text text-anchor=\"middle\" x=\"100.5\" y=\"-22.8\" font-family=\"Helvetica,sans-Serif\" font-size=\"14.00\">samples = 140</text>\n",
       "<text text-anchor=\"middle\" x=\"100.5\" y=\"-7.8\" font-family=\"Helvetica,sans-Serif\" font-size=\"14.00\">value = 101.514</text>\n",
       "</g>\n",
       "<!-- 1&#45;&gt;2 -->\n",
       "<g id=\"edge2\" class=\"edge\">\n",
       "<title>1&#45;&gt;2</title>\n",
       "<path fill=\"none\" stroke=\"black\" d=\"M239.65,-88.95C216.24,-78.61 190.57,-67.27 167.71,-57.18\"/>\n",
       "<polygon fill=\"black\" stroke=\"black\" points=\"169,-53.92 158.44,-53.09 166.18,-60.33 169,-53.92\"/>\n",
       "</g>\n",
       "<!-- 3 -->\n",
       "<g id=\"node4\" class=\"node\">\n",
       "<title>3</title>\n",
       "<polygon fill=\"none\" stroke=\"black\" points=\"411.5,-53 219.5,-53 219.5,0 411.5,0 411.5,-53\"/>\n",
       "<text text-anchor=\"middle\" x=\"315.5\" y=\"-37.8\" font-family=\"Helvetica,sans-Serif\" font-size=\"14.00\">squared_error = 3915.52</text>\n",
       "<text text-anchor=\"middle\" x=\"315.5\" y=\"-22.8\" font-family=\"Helvetica,sans-Serif\" font-size=\"14.00\">samples = 57</text>\n",
       "<text text-anchor=\"middle\" x=\"315.5\" y=\"-7.8\" font-family=\"Helvetica,sans-Serif\" font-size=\"14.00\">value = 164.667</text>\n",
       "</g>\n",
       "<!-- 1&#45;&gt;3 -->\n",
       "<g id=\"edge3\" class=\"edge\">\n",
       "<title>1&#45;&gt;3</title>\n",
       "<path fill=\"none\" stroke=\"black\" d=\"M314.85,-88.95C314.94,-80.72 315.03,-71.85 315.12,-63.48\"/>\n",
       "<polygon fill=\"black\" stroke=\"black\" points=\"318.62,-63.27 315.23,-53.24 311.62,-63.2 318.62,-63.27\"/>\n",
       "</g>\n",
       "<!-- 5 -->\n",
       "<g id=\"node6\" class=\"node\">\n",
       "<title>5</title>\n",
       "<polygon fill=\"none\" stroke=\"black\" points=\"633,-53 432,-53 432,0 633,0 633,-53\"/>\n",
       "<text text-anchor=\"middle\" x=\"532.5\" y=\"-37.8\" font-family=\"Helvetica,sans-Serif\" font-size=\"14.00\">squared_error = 4466.917</text>\n",
       "<text text-anchor=\"middle\" x=\"532.5\" y=\"-22.8\" font-family=\"Helvetica,sans-Serif\" font-size=\"14.00\">samples = 109</text>\n",
       "<text text-anchor=\"middle\" x=\"532.5\" y=\"-7.8\" font-family=\"Helvetica,sans-Serif\" font-size=\"14.00\">value = 190.018</text>\n",
       "</g>\n",
       "<!-- 4&#45;&gt;5 -->\n",
       "<g id=\"edge5\" class=\"edge\">\n",
       "<title>4&#45;&gt;5</title>\n",
       "<path fill=\"none\" stroke=\"black\" d=\"M533.15,-88.95C533.06,-80.72 532.97,-71.85 532.88,-63.48\"/>\n",
       "<polygon fill=\"black\" stroke=\"black\" points=\"536.38,-63.2 532.77,-53.24 529.38,-63.27 536.38,-63.2\"/>\n",
       "</g>\n",
       "<!-- 6 -->\n",
       "<g id=\"node7\" class=\"node\">\n",
       "<title>6</title>\n",
       "<polygon fill=\"none\" stroke=\"black\" points=\"852,-53 651,-53 651,0 852,0 852,-53\"/>\n",
       "<text text-anchor=\"middle\" x=\"751.5\" y=\"-37.8\" font-family=\"Helvetica,sans-Serif\" font-size=\"14.00\">squared_error = 2525.386</text>\n",
       "<text text-anchor=\"middle\" x=\"751.5\" y=\"-22.8\" font-family=\"Helvetica,sans-Serif\" font-size=\"14.00\">samples = 25</text>\n",
       "<text text-anchor=\"middle\" x=\"751.5\" y=\"-7.8\" font-family=\"Helvetica,sans-Serif\" font-size=\"14.00\">value = 271.12</text>\n",
       "</g>\n",
       "<!-- 4&#45;&gt;6 -->\n",
       "<g id=\"edge6\" class=\"edge\">\n",
       "<title>4&#45;&gt;6</title>\n",
       "<path fill=\"none\" stroke=\"black\" d=\"M609.75,-88.95C633.59,-78.61 659.75,-67.27 683.03,-57.18\"/>\n",
       "<polygon fill=\"black\" stroke=\"black\" points=\"684.69,-60.28 692.47,-53.09 681.91,-53.85 684.69,-60.28\"/>\n",
       "</g>\n",
       "</g>\n",
       "</svg>\n"
      ],
      "text/plain": [
       "<graphviz.sources.Source at 0x7fb4f1cefb90>"
      ]
     },
     "execution_count": 56,
     "metadata": {},
     "output_type": "execute_result"
    }
   ],
   "source": [
    "# stampa decision tree\n",
    "exp_tree = tree.export_graphviz(dtr_reg.final_model)\n",
    "graph = graphviz.Source(exp_tree)\n",
    "graph"
   ]
  }
 ],
 "metadata": {
  "kernelspec": {
   "display_name": "Python 3 (ipykernel)",
   "language": "python",
   "name": "python3"
  },
  "language_info": {
   "codemirror_mode": {
    "name": "ipython",
    "version": 3
   },
   "file_extension": ".py",
   "mimetype": "text/x-python",
   "name": "python",
   "nbconvert_exporter": "python",
   "pygments_lexer": "ipython3",
   "version": "3.11.4"
  }
 },
 "nbformat": 4,
 "nbformat_minor": 5
}

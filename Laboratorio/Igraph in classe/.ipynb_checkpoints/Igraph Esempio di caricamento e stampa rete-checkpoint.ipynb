{
 "cells": [
  {
   "cell_type": "code",
   "execution_count": 1,
   "id": "58f9dbf8",
   "metadata": {},
   "outputs": [
    {
     "name": "stdout",
     "output_type": "stream",
     "text": [
      "Requirement already satisfied: igraph in /opt/conda/lib/python3.11/site-packages (0.11.3)\n",
      "Requirement already satisfied: texttable>=1.6.2 in /opt/conda/lib/python3.11/site-packages (from igraph) (1.7.0)\n",
      "\u001b[33mWARNING: Running pip as the 'root' user can result in broken permissions and conflicting behaviour with the system package manager. It is recommended to use a virtual environment instead: https://pip.pypa.io/warnings/venv\u001b[0m\u001b[33m\n",
      "\u001b[0mNote: you may need to restart the kernel to use updated packages.\n"
     ]
    }
   ],
   "source": [
    "pip install igraph"
   ]
  },
  {
   "cell_type": "code",
   "execution_count": 48,
   "id": "ffe4f9c9",
   "metadata": {},
   "outputs": [],
   "source": [
    "import pandas as pd\n",
    "import igraph as ig\n",
    "from igraph import *\n",
    "import matplotlib.pyplot as plt"
   ]
  },
  {
   "cell_type": "markdown",
   "id": "43872974",
   "metadata": {},
   "source": [
    "### File loading"
   ]
  },
  {
   "cell_type": "code",
   "execution_count": 49,
   "id": "7d477e24",
   "metadata": {},
   "outputs": [],
   "source": [
    "corsi        = pd.read_csv(\"Networks/Corso.csv\")\n",
    "partecipanti = pd.read_csv(\"Networks/Partecipanti.csv\")"
   ]
  },
  {
   "cell_type": "code",
   "execution_count": 50,
   "id": "4c3f974e",
   "metadata": {},
   "outputs": [],
   "source": [
    "nodes_number = len(corsi) + len(partecipanti)\n",
    "grafo        = ig.Graph()\n",
    "grafo.add_vertices(nodes_number)"
   ]
  },
  {
   "cell_type": "code",
   "execution_count": 51,
   "id": "ccc0f214",
   "metadata": {},
   "outputs": [],
   "source": [
    "corso = grafo.vs[0]\n",
    "for row_id, row in corsi.iterrows():\n",
    "    for key, val in row.items():\n",
    "        corso[key]= val\n",
    "corso[\"Tipo\"] = \"Corso\""
   ]
  },
  {
   "cell_type": "code",
   "execution_count": 52,
   "id": "3c184439",
   "metadata": {},
   "outputs": [],
   "source": [
    "partecipanti_ig = grafo.vs[1:]\n",
    "params_users    = list(partecipanti.columns)\n",
    "for param in params_users:\n",
    "    partecipanti_ig[param] = partecipanti[param].to_list()\n",
    "partecipanti_ig[\"Tipo\"] = \"Partecipante\""
   ]
  },
  {
   "cell_type": "code",
   "execution_count": 53,
   "id": "ade048ce",
   "metadata": {},
   "outputs": [],
   "source": [
    "# Creazione degli archi\n",
    "edges = [(i,0) for i in range(1, 5)]\n",
    "grafo.add_edges(edges)\n",
    "grafo.es[\"Tipo\"] = \"Segue\""
   ]
  },
  {
   "cell_type": "code",
   "execution_count": 54,
   "id": "ddd446e7",
   "metadata": {},
   "outputs": [],
   "source": [
    "grafo.add_vertices(2)\n",
    "children = grafo.vs[5:]\n",
    "children[\"Nome\"]  = [\"Marco\", \"Mara\"]\n",
    "children[\"Cognome\"] = [\"Re\", \"Re\"]\n",
    "children[\"Eta\"]    = [1, 3]\n",
    "children[\"Tipo\"]   = [\"Figlio\", \"Figlio\"]\n",
    "grafo.add_edges([(5,4), (6,4)])"
   ]
  },
  {
   "cell_type": "code",
   "execution_count": 55,
   "id": "8c074c9a",
   "metadata": {},
   "outputs": [],
   "source": [
    "selected_edges = grafo.es.select(_within=[4,5,6])\n",
    "selected_edges[\"Tipo\"] = \"Parentela\""
   ]
  },
  {
   "cell_type": "code",
   "execution_count": null,
   "id": "6c9e3547",
   "metadata": {},
   "outputs": [],
   "source": [
    "#https://igraph.org/python/tutorial/0.9.8/tutorial.html#vertex-attributes-controlling-graph-plots"
   ]
  }
 ],
 "metadata": {
  "kernelspec": {
   "display_name": "Python 3 (ipykernel)",
   "language": "python",
   "name": "python3"
  },
  "language_info": {
   "codemirror_mode": {
    "name": "ipython",
    "version": 3
   },
   "file_extension": ".py",
   "mimetype": "text/x-python",
   "name": "python",
   "nbconvert_exporter": "python",
   "pygments_lexer": "ipython3",
   "version": "3.11.4"
  }
 },
 "nbformat": 4,
 "nbformat_minor": 5
}

{
 "cells": [
  {
   "cell_type": "markdown",
   "id": "2b47f539",
   "metadata": {},
   "source": [
    "# CLUSTERING"
   ]
  },
  {
   "cell_type": "markdown",
   "id": "c71671c3",
   "metadata": {},
   "source": [
    " ### LA LIBRERIA scikit-learn-extra È USATA PER KMEDOID"
   ]
  },
  {
   "cell_type": "code",
   "execution_count": 1,
   "id": "499b1460",
   "metadata": {},
   "outputs": [
    {
     "name": "stdout",
     "output_type": "stream",
     "text": [
      "Requirement already satisfied: scikit-learn-extra in /opt/conda/lib/python3.11/site-packages (0.3.0)\n",
      "Requirement already satisfied: numpy>=1.13.3 in /opt/conda/lib/python3.11/site-packages (from scikit-learn-extra) (1.24.3)\n",
      "Requirement already satisfied: scipy>=0.19.1 in /opt/conda/lib/python3.11/site-packages (from scikit-learn-extra) (1.11.1)\n",
      "Requirement already satisfied: scikit-learn>=0.23.0 in /opt/conda/lib/python3.11/site-packages (from scikit-learn-extra) (1.3.2)\n",
      "Requirement already satisfied: joblib>=1.1.1 in /opt/conda/lib/python3.11/site-packages (from scikit-learn>=0.23.0->scikit-learn-extra) (1.2.0)\n",
      "Requirement already satisfied: threadpoolctl>=2.0.0 in /opt/conda/lib/python3.11/site-packages (from scikit-learn>=0.23.0->scikit-learn-extra) (2.2.0)\n",
      "\u001b[33mWARNING: Running pip as the 'root' user can result in broken permissions and conflicting behaviour with the system package manager. It is recommended to use a virtual environment instead: https://pip.pypa.io/warnings/venv\u001b[0m\u001b[33m\n",
      "\u001b[0mNote: you may need to restart the kernel to use updated packages.\n"
     ]
    }
   ],
   "source": [
    "pip install scikit-learn-extra"
   ]
  },
  {
   "cell_type": "code",
   "execution_count": 2,
   "id": "055c0add",
   "metadata": {},
   "outputs": [
    {
     "ename": "SyntaxError",
     "evalue": "expression expected after dictionary key and ':' (Clusterizer.py, line 26)",
     "output_type": "error",
     "traceback": [
      "Traceback \u001b[0;36m(most recent call last)\u001b[0m:\n",
      "\u001b[0m  File \u001b[1;32m/opt/conda/lib/python3.11/site-packages/IPython/core/interactiveshell.py:3508\u001b[0m in \u001b[1;35mrun_code\u001b[0m\n    exec(code_obj, self.user_global_ns, self.user_ns)\u001b[0m\n",
      "\u001b[0;36m  Cell \u001b[0;32mIn[2], line 2\u001b[0;36m\n\u001b[0;31m    from Clusterizer import Clusterizer\u001b[0;36m\n",
      "\u001b[0;36m  File \u001b[0;32m/Notebooks/IDM/Clustering Aula/Clusterizer.py:26\u001b[0;36m\u001b[0m\n\u001b[0;31m    \"cur\":\u001b[0m\n\u001b[0m         ^\u001b[0m\n\u001b[0;31mSyntaxError\u001b[0m\u001b[0;31m:\u001b[0m expression expected after dictionary key and ':'\n"
     ]
    }
   ],
   "source": [
    "from sklearn import datasets\n",
    "from Clusterizer import Clusterizer"
   ]
  },
  {
   "cell_type": "code",
   "execution_count": null,
   "id": "97ef1347",
   "metadata": {},
   "outputs": [],
   "source": [
    "iris = datasets.load_iris()\n",
    "iris_mtx = iris.data"
   ]
  },
  {
   "cell_type": "code",
   "execution_count": null,
   "id": "4ba4b544",
   "metadata": {},
   "outputs": [],
   "source": [
    "import matplotlib.pyplot as plt"
   ]
  },
  {
   "cell_type": "markdown",
   "id": "f948bda5",
   "metadata": {},
   "source": [
    "# "
   ]
  },
  {
   "cell_type": "markdown",
   "id": "097aaf55",
   "metadata": {},
   "source": [
    "# KMEANS"
   ]
  },
  {
   "cell_type": "markdown",
   "id": "ea4f2ae2",
   "metadata": {},
   "source": [
    "KMeans(n_clusters=8, *, init='k-means++', n_init='warn', max_iter=300, tol=0.0001, verbose=0, random_state=None, copy_x=True, algorithm='lloyd')"
   ]
  },
  {
   "cell_type": "code",
   "execution_count": null,
   "id": "943ef099",
   "metadata": {},
   "outputs": [],
   "source": [
    "params = {\n",
    "    \"n_clusters\": list(range(2, 16)),\n",
    "    \"init\": [\"random\", \"k-means++\"],\n",
    "    \"max_iter\": [100, 500, 1000, 10000],\n",
    "    \"n_init\": [\"auto\"]\n",
    "}\n",
    "\n",
    "kmeans_obj = Clusterizer()\n",
    "kmeans_obj.models_configuration(iris_mtx, params)\n",
    "kmeans_obj.silouette_evaluation(iris_mtx)"
   ]
  },
  {
   "cell_type": "code",
   "execution_count": null,
   "id": "5115df6c",
   "metadata": {},
   "outputs": [],
   "source": [
    "kmeans_obj.qom"
   ]
  },
  {
   "cell_type": "code",
   "execution_count": null,
   "id": "2cc42f3c",
   "metadata": {},
   "outputs": [],
   "source": [
    "kmeans_obj.models_selection([0, 8])"
   ]
  },
  {
   "cell_type": "code",
   "execution_count": null,
   "id": "66622ba8",
   "metadata": {},
   "outputs": [],
   "source": [
    "kmeans_obj.selected_models"
   ]
  },
  {
   "cell_type": "code",
   "execution_count": null,
   "id": "ea01ba49",
   "metadata": {},
   "outputs": [],
   "source": [
    "kmeans_obj.models_printing(iris_mtx)"
   ]
  },
  {
   "cell_type": "markdown",
   "id": "acb2aa22",
   "metadata": {},
   "source": [
    "# KMEDOID"
   ]
  },
  {
   "cell_type": "markdown",
   "id": "04b11450",
   "metadata": {},
   "source": [
    "KMedoids(n_clusters=8, metric='euclidean', method='alternate', init='heuristic', max_iter=300, random_state=None)"
   ]
  },
  {
   "cell_type": "code",
   "execution_count": null,
   "id": "6e561aa3",
   "metadata": {},
   "outputs": [],
   "source": [
    "params = {\n",
    "    \"n_clusters\": list(range(2, 16)),\n",
    "    \"init\": [\"random\", \"heuristic\", \"k-medoids++\"],\n",
    "    \"max_iter\": [100, 500, 1000, 10000]\n",
    "}\n",
    "\n",
    "kmedoid_obj = Clusterizer(\"ka\")\n",
    "kmedoid_obj.models_configuration(iris_mtx, params)\n",
    "kmedoid_obj.silouette_evaluation(iris_mtx)"
   ]
  },
  {
   "cell_type": "code",
   "execution_count": null,
   "id": "9e9be36f",
   "metadata": {},
   "outputs": [],
   "source": [
    "kmedoid_obj.qom"
   ]
  },
  {
   "cell_type": "code",
   "execution_count": null,
   "id": "c1550e0b",
   "metadata": {},
   "outputs": [],
   "source": [
    "kmedoid_obj.models_selection([0, 12])"
   ]
  },
  {
   "cell_type": "code",
   "execution_count": null,
   "id": "f426f1df",
   "metadata": {},
   "outputs": [],
   "source": [
    "kmedoid_obj.models_printing(iris_mtx)"
   ]
  },
  {
   "cell_type": "markdown",
   "id": "350ae275",
   "metadata": {},
   "source": [
    "# Gerarchico"
   ]
  },
  {
   "cell_type": "markdown",
   "id": "3c22d2aa",
   "metadata": {},
   "source": [
    "AgglomerativeClustering(n_clusters=2, *, affinity='deprecated', metric=None, memory=None, connectivity=None, compute_full_tree='auto', linkage='ward', distance_threshold=None, compute_distances=False)"
   ]
  },
  {
   "cell_type": "code",
   "execution_count": null,
   "id": "df1b69f7",
   "metadata": {},
   "outputs": [],
   "source": [
    "params = {\n",
    "    \"n_clusters\": list(range(2, 16)),\n",
    "    \"metric\" : [\"euclidean\", \"manhattan\"],\n",
    "    \"linkage\": [\"complete\", \"single\", \"average\"]\n",
    "}"
   ]
  },
  {
   "cell_type": "code",
   "execution_count": null,
   "id": "f95bda66",
   "metadata": {},
   "outputs": [],
   "source": [
    "gerarchico_obj = Clusterizer(\"gc\")\n",
    "gerarchico_obj.models_configuration(iris_mtx, params)\n",
    "gerarchico_obj.silouette_evaluation(iris_mtx)"
   ]
  },
  {
   "cell_type": "code",
   "execution_count": null,
   "id": "3ecde63a",
   "metadata": {},
   "outputs": [],
   "source": [
    "gerarchico_obj.qom"
   ]
  },
  {
   "cell_type": "code",
   "execution_count": null,
   "id": "036f5623",
   "metadata": {},
   "outputs": [],
   "source": [
    "gerarchico_obj.models_selection([4, 9])\n",
    "gerarchico_obj.models_printing(iris_mtx)"
   ]
  },
  {
   "cell_type": "markdown",
   "id": "4505d280",
   "metadata": {},
   "source": [
    "# "
   ]
  },
  {
   "cell_type": "markdown",
   "id": "10c943ac",
   "metadata": {},
   "source": [
    "# DBSCAN\n",
    "\n",
    "DBSCAN(eps=0.5, *, min_samples=5, metric='euclidean', metric_params=None, algorithm='auto', leaf_size=30, p=None, n_jobs=None)"
   ]
  },
  {
   "cell_type": "code",
   "execution_count": null,
   "id": "9b15e1d9",
   "metadata": {},
   "outputs": [],
   "source": [
    "params = {\n",
    "    \"eps\": [0.2, 0.3, 0.5, 1, 2, 5, 10],\n",
    "    \"min_samples\": list(range(3, 20))\n",
    "}\n",
    "\n",
    "dbscan_obj = Clusterizer(\"db\")\n",
    "dbscan_obj.models_configuration(iris_mtx, params)\n",
    "dbscan_obj.silouette_evaluation(iris_mtx)"
   ]
  },
  {
   "cell_type": "code",
   "execution_count": null,
   "id": "c49d931c",
   "metadata": {},
   "outputs": [],
   "source": [
    "dbscan_obj.qom"
   ]
  },
  {
   "cell_type": "code",
   "execution_count": null,
   "id": "5a9f14d6",
   "metadata": {},
   "outputs": [],
   "source": [
    "dbscan_obj.models_selection([58, 65])\n",
    "dbscan_obj.models_printing(iris_mtx)"
   ]
  },
  {
   "cell_type": "markdown",
   "id": "559835fe",
   "metadata": {},
   "source": [
    "#"
   ]
  },
  {
   "cell_type": "markdown",
   "id": "63b810ef",
   "metadata": {},
   "source": [
    "# OPTICS"
   ]
  },
  {
   "cell_type": "markdown",
   "id": "85a314d4",
   "metadata": {},
   "source": [
    "OPTICS(*, min_samples=5, max_eps=inf, metric='minkowski', p=2, metric_params=None, cluster_method='xi', eps=None, xi=0.05, predecessor_correction=True, min_cluster_size=None, algorithm='auto', leaf_size=30, memory=None, n_jobs=None)[source]¶"
   ]
  },
  {
   "cell_type": "code",
   "execution_count": null,
   "id": "586ada86",
   "metadata": {},
   "outputs": [],
   "source": [
    "params = {\n",
    "    \"min_samples\": list(range(4, 26))\n",
    "}"
   ]
  },
  {
   "cell_type": "code",
   "execution_count": null,
   "id": "efc36855",
   "metadata": {},
   "outputs": [],
   "source": [
    "optics_obj = Clusterizer(\"op\")\n",
    "optics_obj.models_configuration(iris_mtx, params)\n",
    "optics_obj.silouette_evaluation(iris_mtx)"
   ]
  },
  {
   "cell_type": "code",
   "execution_count": null,
   "id": "f043c6df",
   "metadata": {},
   "outputs": [],
   "source": [
    "optics_obj.qom"
   ]
  },
  {
   "cell_type": "code",
   "execution_count": null,
   "id": "8b9a6294",
   "metadata": {},
   "outputs": [],
   "source": [
    "optics_obj.models_selection([11])\n",
    "optics_obj.models_printing(iris_mtx)"
   ]
  },
  {
   "cell_type": "markdown",
   "id": "6097de45",
   "metadata": {},
   "source": [
    "# HDBSCAN"
   ]
  },
  {
   "cell_type": "code",
   "execution_count": null,
   "id": "1d9121e6",
   "metadata": {},
   "outputs": [],
   "source": [
    "params = {\n",
    "    \"min_cluster_size\": list(range(4, 26))\n",
    "}"
   ]
  },
  {
   "cell_type": "code",
   "execution_count": null,
   "id": "022ee9ad",
   "metadata": {},
   "outputs": [],
   "source": [
    "hdbscan_obj = Clusterizer(\"hdb\")\n",
    "hdbscan_obj.models_configuration(iris_mtx, params)\n",
    "hdbscan_obj.silouette_evaluation(iris_mtx)"
   ]
  },
  {
   "cell_type": "code",
   "execution_count": null,
   "id": "acb0b916",
   "metadata": {},
   "outputs": [],
   "source": [
    "hdbscan_obj.qom"
   ]
  },
  {
   "cell_type": "code",
   "execution_count": null,
   "id": "710a3663",
   "metadata": {},
   "outputs": [],
   "source": [
    "hdbscan_obj.models_selection([6])\n",
    "hdbscan_obj.models_printing(iris_mtx)"
   ]
  },
  {
   "cell_type": "code",
   "execution_count": null,
   "id": "dccefd2a",
   "metadata": {},
   "outputs": [],
   "source": []
  }
 ],
 "metadata": {
  "kernelspec": {
   "display_name": "Python 3 (ipykernel)",
   "language": "python",
   "name": "python3"
  },
  "language_info": {
   "codemirror_mode": {
    "name": "ipython",
    "version": 3
   },
   "file_extension": ".py",
   "mimetype": "text/x-python",
   "name": "python",
   "nbconvert_exporter": "python",
   "pygments_lexer": "ipython3",
   "version": "3.11.4"
  }
 },
 "nbformat": 4,
 "nbformat_minor": 5
}
